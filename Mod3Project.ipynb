{
 "cells": [
  {
   "cell_type": "markdown",
   "metadata": {},
   "source": [
    "# Module 3 Final Project\n",
    "\n",
    "***\n",
    "\n",
    "# Module 3 Summary\n",
    "\n",
    "Congratulations! You've survived module 3 and learned the basis of Machine Learning and classification. Now, you are ready to show off your skills on some exciting datasets!\n",
    "\n",
    "For this project, you're going to:\n",
    "- acquire a dataset of your choosing\n",
    "- create a classification model\n",
    "- evaluate your models. \n",
    "\n",
    "You'll start by **indentifying** a problem you can solve with classification, and then acquire or create a **dataset**.\n",
    "\n",
    "You'll then use *everything you've learned* about Data Science and Machine Learning thus far to source a dataset, pre-process and explore it, and then build and evaluate and interpret a classification model that answers your chosen question.\n",
    "\n",
    "Good Question &rarr; Messy Data &rarr; Clean Data &rarr; EDA &rarr;Build Model &rarr; Evaluate &rarr; Interpret model results"
   ]
  },
  {
   "cell_type": "code",
   "execution_count": null,
   "metadata": {},
   "outputs": [],
   "source": [
    "import pandas as pd\n",
    "\n"
   ]
  },
  {
   "cell_type": "markdown",
   "metadata": {},
   "source": [
    "***"
   ]
  },
  {
   "cell_type": "markdown",
   "metadata": {},
   "source": [
    "# Selecting a Data Set\n",
    "We encourage you to be very thoughful when identifying your problem and selecting your data set--an overscoped project goal or a poor data set can quickly bring an otherwise promising project to a grinding halt.\n",
    "\n",
    "To help you select an appropriate data set for this project, we've set some guidelines:\n",
    "\n",
    "1. Your dataset should either be sourced by you through API calls or webscraping, or contain multiple tables if it isn't sourced by you. You will spend at least 40%-50% of your time to collect, format, structure and restructure your dataset. \n",
    "\n",
    "2. Your dataset should work for classification. The classification task can be either binary or multi-categorical, as long as it's a classification model.\n",
    "\n",
    "3. Your dataset needs to be of sufficient complexity. Try to avoid picking an overly simple dataset. We want to see all the steps of the Data Science Process in this project--it's okay if the dataset is mostly clean, but we expect to see some preprocessing and exploration. See the following section, Data Set Constraints, for more information on this.\n",
    "\n",
    "4. On the other end of the spectrum, don't pick a problem that's too complex, either. Stick to problems that you have a clear idea of how you can use machine learning to solve it. For now, we recommend you stay away from overly complex problems in the domains of Natural Language Processing or Computer Vision--although those domains make use of Supervised Learning, they come with a lot of other special requirements and techniques that you don't know yet (but you'll learn soon!). If you're chosen problem feels like you've over-scoped, then it probably is. If you aren't sure if your problem scope is appropriate, double check with your instructor!\n",
    "\n",
    "***"
   ]
  },
  {
   "cell_type": "markdown",
   "metadata": {},
   "source": [
    "# Dataset Constraints\n",
    "\n",
    "When selecting a data set, be sure to take into the consideration the following constraints:\n",
    "\n",
    "1. Your data set should contain a minimum of 1000 rows.\n",
    "2. Your data set should contain a minimum of 10 predictor columns, before any one-hot encoding is performed.\n",
    "3. Your instructor must provide final approval on your data set.\n",
    "\n",
    "***"
   ]
  },
  {
   "cell_type": "markdown",
   "metadata": {},
   "source": [
    "# The Deliverables\n",
    "\n",
    "A **Jupyter Notebook** containing any code you've written for this project.\n",
    "\n",
    "### For this project, your jupyter notebook should meet the following specifications:\n",
    "\n",
    "- **Organization/Code Cleanliness**\n",
    "\n",
    "The notebook should be well organized, easy to follow, and code is commented where appropriate. The notebook contains well-formatted, professional looking markdown cells explaining any substantial code. All functions have docstrings that act as professional-quality documentation.\n",
    "The notebook is written to technical audiences with a way to both understand your approach and reproduce your results. The target audience for this deliverable is other data scientists looking to validate your findings.\n",
    "\n",
    "- **Visualizations**\n",
    "\n",
    "All good complex models begin with exploratory data analysis (EDA). Your notebook should include well annotated visuals exploring the data to provide insight into your analysis.\n",
    "\n",
    "- **Process, Methodology, and Findings**\n",
    "\n",
    "Your notebook should contain a *clear record* of your process and methodology for exploring and preprocessing your data, building and tuning a model, and interpreting your results."
   ]
  },
  {
   "cell_type": "markdown",
   "metadata": {},
   "source": [
    "***\n",
    "# Timelines\n",
    "\n",
    " **1/4 Friday** - Project Assignment <br>\n",
    " **1/7 Monday** - Datasets and problems identified and approved by instructors <br>\n",
    " **1/8 Tuesday** - Data exploration and Model exploration, clear any confusion with instructors <br>\n",
    " **1/9 Wednesday** - Project presentation"
   ]
  },
  {
   "cell_type": "markdown",
   "metadata": {},
   "source": [
    "***\n",
    "# Resources\n",
    "- [Open Souece Government Data](https://catalog.data.gov/dataset)\n",
    "- [UCI machine learning repository](https://archive.ics.uci.edu/ml/datasets.html)\n",
    "- [Kaggle Datasets](https://www.kaggle.com/datasets?utm_medium=paid&utm_source=google.com&utm_campaign=datasets+houseads&gclid=EAIaIQobChMIie2flK7U3wIVxYuzCh2boQdKEAAYASAAEgL01PD_BwE)\n",
    "- [New York City Datasets](https://opendata.cityofnewyork.us/)\n",
    "- [Awesome Github Public Datasets](https://github.com/awesomedata/awesome-public-datasets)\n",
    "- [Data World](https://data.world/)\n",
    "- [Jupyter Notebook Markdown Shortcuts](https://medium.com/ibm-data-science-experience/markdown-for-jupyter-notebooks-cheatsheet-386c05aeebed)"
   ]
  }
 ],
 "metadata": {
  "kernelspec": {
   "display_name": "Python 3",
   "language": "python",
   "name": "python3"
  },
  "language_info": {
   "codemirror_mode": {
    "name": "ipython",
    "version": 3
   },
   "file_extension": ".py",
   "mimetype": "text/x-python",
   "name": "python",
   "nbconvert_exporter": "python",
   "pygments_lexer": "ipython3",
   "version": "3.6.7"
  }
 },
 "nbformat": 4,
 "nbformat_minor": 2
}
