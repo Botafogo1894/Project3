{
 "cells": [
  {
   "cell_type": "markdown",
   "metadata": {},
   "source": [
    "### Import all necessary libraries"
   ]
  },
  {
   "cell_type": "code",
   "execution_count": 25,
   "metadata": {},
   "outputs": [
    {
     "name": "stdout",
     "output_type": "stream",
     "text": [
      "[nltk_data] Downloading package wordnet to\n",
      "[nltk_data]     /Users/flatironschool/nltk_data...\n",
      "[nltk_data]   Package wordnet is already up-to-date!\n",
      "[nltk_data] Downloading package words to\n",
      "[nltk_data]     /Users/flatironschool/nltk_data...\n",
      "[nltk_data]   Package words is already up-to-date!\n"
     ]
    }
   ],
   "source": [
    "#!pip install seaborn\n",
    "import pandas as pd\n",
    "import seaborn as sns\n",
    "import numpy as np\n",
    "import matplotlib.pyplot as plt\n",
    "%matplotlib inline\n",
    "import nltk\n",
    "import sklearn\n",
    "import nltk.collocations \n",
    "from nltk import FreqDist, word_tokenize\n",
    "from sklearn.feature_extraction.text import TfidfVectorizer\n",
    "from sklearn.feature_extraction.text import CountVectorizer, TfidfTransformer\n",
    "from sklearn.metrics import accuracy_score\n",
    "from sklearn.model_selection import GridSearchCV\n",
    "import string, re\n",
    "import urllib\n",
    "from sklearn.model_selection import train_test_split\n",
    "from sklearn.metrics import accuracy_score, confusion_matrix, classification_report\n",
    "from sklearn.ensemble import RandomForestClassifier\n",
    "# import xgboost as xgb\n",
    "#nltk.download('punkt')\n",
    "#nltk.download('stopwords')\n",
    "nltk.download('wordnet')\n",
    "nltk.download('words')\n",
    "from nltk.stem import WordNetLemmatizer\n",
    "from nltk.stem.snowball import SnowballStemmer\n",
    "from nltk.corpus import stopwords\n",
    "from sklearn.decomposition import PCA\n",
    "from sklearn.naive_bayes import MultinomialNB, GaussianNB\n",
    "from sklearn.model_selection import cross_val_score\n",
    "from sklearn import svm\n",
    "from sklearn.pipeline import Pipeline\n",
    "from sklearn.decomposition import PCA\n",
    "from sklearn.ensemble import AdaBoostClassifier, GradientBoostingClassifier\n",
    "from sklearn.neighbors import KNeighborsClassifier\n"
   ]
  },
  {
   "cell_type": "markdown",
   "metadata": {},
   "source": [
    "### Read CSV Data"
   ]
  },
  {
   "cell_type": "code",
   "execution_count": 26,
   "metadata": {},
   "outputs": [],
   "source": [
    "song_list = pd.read_csv('380lyrics.csv')\n",
    "charts = pd.read_csv('chart.csv')"
   ]
  },
  {
   "cell_type": "markdown",
   "metadata": {},
   "source": [
    "### Remove Rows with Other and Not Available Genre"
   ]
  },
  {
   "cell_type": "code",
   "execution_count": 27,
   "metadata": {},
   "outputs": [
    {
     "data": {
      "text/plain": [
       "2006    76590\n",
       "2007    63677\n",
       "2016    37409\n",
       "2015    28766\n",
       "2014    28250\n",
       "2008    21497\n",
       "2013    17331\n",
       "2012    15789\n",
       "2010    12106\n",
       "2011    12067\n",
       "2009    12029\n",
       "2005     5719\n",
       "2004     3698\n",
       "2003     2187\n",
       "2002     2158\n",
       "2000     1722\n",
       "1999     1586\n",
       "2001     1570\n",
       "1990     1362\n",
       "1997     1304\n",
       "1998     1285\n",
       "1996     1236\n",
       "1995     1160\n",
       "1994      968\n",
       "1993      918\n",
       "1992      907\n",
       "1991      559\n",
       "1977      552\n",
       "1971      541\n",
       "1973      520\n",
       "1989      511\n",
       "1972      509\n",
       "1982      498\n",
       "1970      429\n",
       "1979      420\n",
       "1981      414\n",
       "1974      410\n",
       "1978      407\n",
       "1980      401\n",
       "1988      388\n",
       "1986      365\n",
       "1975      364\n",
       "1983      359\n",
       "1976      344\n",
       "1985      333\n",
       "1987      307\n",
       "1984      298\n",
       "2038       10\n",
       "112         4\n",
       "702         1\n",
       "1968        1\n",
       "67          1\n",
       "Name: year, dtype: int64"
      ]
     },
     "execution_count": 27,
     "metadata": {},
     "output_type": "execute_result"
    }
   ],
   "source": [
    "song_list.year.value_counts()"
   ]
  },
  {
   "cell_type": "code",
   "execution_count": 28,
   "metadata": {},
   "outputs": [
    {
     "data": {
      "text/plain": [
       "(299523, 6)"
      ]
     },
     "execution_count": 28,
     "metadata": {},
     "output_type": "execute_result"
    }
   ],
   "source": [
    "song_list.drop(song_list[song_list.genre == \"Other\"].index, inplace = True)\n",
    "song_list.drop(song_list[song_list.genre == \"Not Available\"].index, inplace = True)\n",
    "song_list.drop(song_list[song_list.genre == \"Indie\"].index, inplace = True)\n",
    "song_list.drop(song_list[song_list.genre == \"Folk\"].index, inplace = True)\n",
    "song_list.drop(song_list[song_list.artist == \"dolcenera\"].index, inplace = True)\n",
    "song_list.drop(song_list[song_list.artist == \"brthhse-onkelz\"].index, inplace = True)\n",
    "song_list.shape"
   ]
  },
  {
   "cell_type": "code",
   "execution_count": 29,
   "metadata": {},
   "outputs": [
    {
     "data": {
      "text/html": [
       "<div>\n",
       "<style scoped>\n",
       "    .dataframe tbody tr th:only-of-type {\n",
       "        vertical-align: middle;\n",
       "    }\n",
       "\n",
       "    .dataframe tbody tr th {\n",
       "        vertical-align: top;\n",
       "    }\n",
       "\n",
       "    .dataframe thead th {\n",
       "        text-align: right;\n",
       "    }\n",
       "</style>\n",
       "<table border=\"1\" class=\"dataframe\">\n",
       "  <thead>\n",
       "    <tr style=\"text-align: right;\">\n",
       "      <th></th>\n",
       "      <th>index</th>\n",
       "      <th>song</th>\n",
       "      <th>year</th>\n",
       "      <th>artist</th>\n",
       "      <th>genre</th>\n",
       "      <th>lyrics</th>\n",
       "    </tr>\n",
       "  </thead>\n",
       "  <tbody>\n",
       "    <tr>\n",
       "      <th>362232</th>\n",
       "      <td>362232</td>\n",
       "      <td>who-am-i-drinking-tonight</td>\n",
       "      <td>2012</td>\n",
       "      <td>edens-edge</td>\n",
       "      <td>Country</td>\n",
       "      <td>I gotta say\\nBoy, after only just a couple of ...</td>\n",
       "    </tr>\n",
       "    <tr>\n",
       "      <th>362233</th>\n",
       "      <td>362233</td>\n",
       "      <td>liar</td>\n",
       "      <td>2012</td>\n",
       "      <td>edens-edge</td>\n",
       "      <td>Country</td>\n",
       "      <td>I helped you find her diamond ring\\nYou made m...</td>\n",
       "    </tr>\n",
       "    <tr>\n",
       "      <th>362234</th>\n",
       "      <td>362234</td>\n",
       "      <td>last-supper</td>\n",
       "      <td>2012</td>\n",
       "      <td>edens-edge</td>\n",
       "      <td>Country</td>\n",
       "      <td>Look at the couple in the corner booth\\nLooks ...</td>\n",
       "    </tr>\n",
       "    <tr>\n",
       "      <th>362235</th>\n",
       "      <td>362235</td>\n",
       "      <td>christ-alone-live-in-studio</td>\n",
       "      <td>2012</td>\n",
       "      <td>edens-edge</td>\n",
       "      <td>Country</td>\n",
       "      <td>When I fly off this mortal earth\\nAnd I'm meas...</td>\n",
       "    </tr>\n",
       "    <tr>\n",
       "      <th>362236</th>\n",
       "      <td>362236</td>\n",
       "      <td>amen</td>\n",
       "      <td>2012</td>\n",
       "      <td>edens-edge</td>\n",
       "      <td>Country</td>\n",
       "      <td>I heard from a friend of a friend of a friend ...</td>\n",
       "    </tr>\n",
       "  </tbody>\n",
       "</table>\n",
       "</div>"
      ],
      "text/plain": [
       "         index                         song  year      artist    genre  \\\n",
       "362232  362232    who-am-i-drinking-tonight  2012  edens-edge  Country   \n",
       "362233  362233                         liar  2012  edens-edge  Country   \n",
       "362234  362234                  last-supper  2012  edens-edge  Country   \n",
       "362235  362235  christ-alone-live-in-studio  2012  edens-edge  Country   \n",
       "362236  362236                         amen  2012  edens-edge  Country   \n",
       "\n",
       "                                                   lyrics  \n",
       "362232  I gotta say\\nBoy, after only just a couple of ...  \n",
       "362233  I helped you find her diamond ring\\nYou made m...  \n",
       "362234  Look at the couple in the corner booth\\nLooks ...  \n",
       "362235  When I fly off this mortal earth\\nAnd I'm meas...  \n",
       "362236  I heard from a friend of a friend of a friend ...  "
      ]
     },
     "execution_count": 29,
     "metadata": {},
     "output_type": "execute_result"
    }
   ],
   "source": [
    "song_list.tail()"
   ]
  },
  {
   "cell_type": "markdown",
   "metadata": {},
   "source": [
    "### Drop rows with NAN values for column song"
   ]
  },
  {
   "cell_type": "code",
   "execution_count": 30,
   "metadata": {
    "scrolled": true
   },
   "outputs": [],
   "source": [
    "song_list.dropna(inplace = True)\n",
    "song_list.song.isna().sum()\n",
    "song_list.reset_index(inplace = True)"
   ]
  },
  {
   "cell_type": "code",
   "execution_count": 31,
   "metadata": {
    "scrolled": true
   },
   "outputs": [
    {
     "data": {
      "text/html": [
       "<div>\n",
       "<style scoped>\n",
       "    .dataframe tbody tr th:only-of-type {\n",
       "        vertical-align: middle;\n",
       "    }\n",
       "\n",
       "    .dataframe tbody tr th {\n",
       "        vertical-align: top;\n",
       "    }\n",
       "\n",
       "    .dataframe thead th {\n",
       "        text-align: right;\n",
       "    }\n",
       "</style>\n",
       "<table border=\"1\" class=\"dataframe\">\n",
       "  <thead>\n",
       "    <tr style=\"text-align: right;\">\n",
       "      <th></th>\n",
       "      <th>level_0</th>\n",
       "      <th>index</th>\n",
       "      <th>song</th>\n",
       "      <th>year</th>\n",
       "      <th>artist</th>\n",
       "      <th>genre</th>\n",
       "      <th>lyrics</th>\n",
       "    </tr>\n",
       "  </thead>\n",
       "  <tbody>\n",
       "    <tr>\n",
       "      <th>231786</th>\n",
       "      <td>362232</td>\n",
       "      <td>362232</td>\n",
       "      <td>who-am-i-drinking-tonight</td>\n",
       "      <td>2012</td>\n",
       "      <td>edens-edge</td>\n",
       "      <td>Country</td>\n",
       "      <td>I gotta say\\nBoy, after only just a couple of ...</td>\n",
       "    </tr>\n",
       "    <tr>\n",
       "      <th>231787</th>\n",
       "      <td>362233</td>\n",
       "      <td>362233</td>\n",
       "      <td>liar</td>\n",
       "      <td>2012</td>\n",
       "      <td>edens-edge</td>\n",
       "      <td>Country</td>\n",
       "      <td>I helped you find her diamond ring\\nYou made m...</td>\n",
       "    </tr>\n",
       "    <tr>\n",
       "      <th>231788</th>\n",
       "      <td>362234</td>\n",
       "      <td>362234</td>\n",
       "      <td>last-supper</td>\n",
       "      <td>2012</td>\n",
       "      <td>edens-edge</td>\n",
       "      <td>Country</td>\n",
       "      <td>Look at the couple in the corner booth\\nLooks ...</td>\n",
       "    </tr>\n",
       "    <tr>\n",
       "      <th>231789</th>\n",
       "      <td>362235</td>\n",
       "      <td>362235</td>\n",
       "      <td>christ-alone-live-in-studio</td>\n",
       "      <td>2012</td>\n",
       "      <td>edens-edge</td>\n",
       "      <td>Country</td>\n",
       "      <td>When I fly off this mortal earth\\nAnd I'm meas...</td>\n",
       "    </tr>\n",
       "    <tr>\n",
       "      <th>231790</th>\n",
       "      <td>362236</td>\n",
       "      <td>362236</td>\n",
       "      <td>amen</td>\n",
       "      <td>2012</td>\n",
       "      <td>edens-edge</td>\n",
       "      <td>Country</td>\n",
       "      <td>I heard from a friend of a friend of a friend ...</td>\n",
       "    </tr>\n",
       "  </tbody>\n",
       "</table>\n",
       "</div>"
      ],
      "text/plain": [
       "        level_0   index                         song  year      artist  \\\n",
       "231786   362232  362232    who-am-i-drinking-tonight  2012  edens-edge   \n",
       "231787   362233  362233                         liar  2012  edens-edge   \n",
       "231788   362234  362234                  last-supper  2012  edens-edge   \n",
       "231789   362235  362235  christ-alone-live-in-studio  2012  edens-edge   \n",
       "231790   362236  362236                         amen  2012  edens-edge   \n",
       "\n",
       "          genre                                             lyrics  \n",
       "231786  Country  I gotta say\\nBoy, after only just a couple of ...  \n",
       "231787  Country  I helped you find her diamond ring\\nYou made m...  \n",
       "231788  Country  Look at the couple in the corner booth\\nLooks ...  \n",
       "231789  Country  When I fly off this mortal earth\\nAnd I'm meas...  \n",
       "231790  Country  I heard from a friend of a friend of a friend ...  "
      ]
     },
     "execution_count": 31,
     "metadata": {},
     "output_type": "execute_result"
    }
   ],
   "source": [
    "song_list.tail()"
   ]
  },
  {
   "cell_type": "markdown",
   "metadata": {},
   "source": [
    "### Clean Song titles to remove dashes and capitalize"
   ]
  },
  {
   "cell_type": "code",
   "execution_count": 32,
   "metadata": {},
   "outputs": [
    {
     "data": {
      "text/plain": [
       "231791"
      ]
     },
     "execution_count": 32,
     "metadata": {},
     "output_type": "execute_result"
    }
   ],
   "source": [
    "def clean_song_names(titles_list):\n",
    "    no_dot = list(map(lambda item: item.replace(\".\", \"\"), titles_list))\n",
    "    no_dash = list(map(lambda item: item.replace(\"-\", \" \"), no_dot))\n",
    "    no_app = list(map(lambda item: item.replace(\"'\", \" \"), no_dash))\n",
    "    return list(map(lambda item: string.capwords(item), no_app))\n",
    "\n",
    "titles_list = song_list.song\n",
    "final_titles = clean_song_names(titles_list)\n",
    "len(final_titles)\n",
    "# final_titles"
   ]
  },
  {
   "cell_type": "markdown",
   "metadata": {},
   "source": [
    "### Append Clean Song names to DF as a new column and drop old column"
   ]
  },
  {
   "cell_type": "code",
   "execution_count": 33,
   "metadata": {},
   "outputs": [],
   "source": [
    "new_df = song_list\n",
    "# new_df.head()\n",
    "new_titles = final_titles\n",
    "\n",
    "\n",
    "new_lyr = pd.DataFrame(new_titles)\n",
    "new_lyr.tail()\n",
    "\n",
    "final_df = new_df.join(new_lyr)\n",
    "\n",
    "final_df.drop(columns = ['song', 'level_0', \"index\"], axis = 1, inplace = True)\n"
   ]
  },
  {
   "cell_type": "code",
   "execution_count": 34,
   "metadata": {
    "scrolled": true
   },
   "outputs": [
    {
     "data": {
      "text/plain": [
       "year      0\n",
       "artist    0\n",
       "genre     0\n",
       "lyrics    0\n",
       "song      0\n",
       "dtype: int64"
      ]
     },
     "execution_count": 34,
     "metadata": {},
     "output_type": "execute_result"
    }
   ],
   "source": [
    "final_df.rename(columns = {0: \"song\"}, inplace = True)\n",
    "final_df.isna().sum()"
   ]
  },
  {
   "cell_type": "code",
   "execution_count": 35,
   "metadata": {
    "scrolled": true
   },
   "outputs": [
    {
     "data": {
      "text/plain": [
       "(231791, 5)"
      ]
     },
     "execution_count": 35,
     "metadata": {},
     "output_type": "execute_result"
    }
   ],
   "source": [
    "final_df.shape"
   ]
  },
  {
   "cell_type": "markdown",
   "metadata": {},
   "source": [
    "### Clean top of charts songs, append songs back to original charts pandas DataFrame, drop original song column"
   ]
  },
  {
   "cell_type": "code",
   "execution_count": 36,
   "metadata": {},
   "outputs": [
    {
     "data": {
      "text/html": [
       "<div>\n",
       "<style scoped>\n",
       "    .dataframe tbody tr th:only-of-type {\n",
       "        vertical-align: middle;\n",
       "    }\n",
       "\n",
       "    .dataframe tbody tr th {\n",
       "        vertical-align: top;\n",
       "    }\n",
       "\n",
       "    .dataframe thead th {\n",
       "        text-align: right;\n",
       "    }\n",
       "</style>\n",
       "<table border=\"1\" class=\"dataframe\">\n",
       "  <thead>\n",
       "    <tr style=\"text-align: right;\">\n",
       "      <th></th>\n",
       "      <th>0</th>\n",
       "    </tr>\n",
       "  </thead>\n",
       "  <tbody>\n",
       "    <tr>\n",
       "      <th>0</th>\n",
       "      <td>Infinity 2008</td>\n",
       "    </tr>\n",
       "    <tr>\n",
       "      <th>1</th>\n",
       "      <td>Pick Up The Phone</td>\n",
       "    </tr>\n",
       "    <tr>\n",
       "      <th>2</th>\n",
       "      <td>Rain Over Me</td>\n",
       "    </tr>\n",
       "    <tr>\n",
       "      <th>3</th>\n",
       "      <td>All I Want For Christmas Is You</td>\n",
       "    </tr>\n",
       "    <tr>\n",
       "      <th>4</th>\n",
       "      <td>It S Time</td>\n",
       "    </tr>\n",
       "  </tbody>\n",
       "</table>\n",
       "</div>"
      ],
      "text/plain": [
       "                                 0\n",
       "0                    Infinity 2008\n",
       "1                Pick Up The Phone\n",
       "2                     Rain Over Me\n",
       "3  All I Want For Christmas Is You\n",
       "4                        It S Time"
      ]
     },
     "execution_count": 36,
     "metadata": {},
     "output_type": "execute_result"
    }
   ],
   "source": [
    "# Clean chart songs\n",
    "clean_chart_songs = clean_song_names(charts.song)\n",
    "\n",
    "# create panda dataframe on clean_chart_songs\n",
    "df_cleaned_chart_songs = pd.DataFrame(np.array(clean_chart_songs))\n",
    "df_cleaned_chart_songs.head()"
   ]
  },
  {
   "cell_type": "code",
   "execution_count": 37,
   "metadata": {},
   "outputs": [
    {
     "data": {
      "text/plain": [
       "1808"
      ]
     },
     "execution_count": 37,
     "metadata": {},
     "output_type": "execute_result"
    }
   ],
   "source": [
    "count = 0\n",
    "for item in clean_chart_songs:\n",
    "    if item in final_titles:\n",
    "        count += 1\n",
    "count"
   ]
  },
  {
   "cell_type": "code",
   "execution_count": 38,
   "metadata": {
    "scrolled": true
   },
   "outputs": [
    {
     "data": {
      "text/html": [
       "<div>\n",
       "<style scoped>\n",
       "    .dataframe tbody tr th:only-of-type {\n",
       "        vertical-align: middle;\n",
       "    }\n",
       "\n",
       "    .dataframe tbody tr th {\n",
       "        vertical-align: top;\n",
       "    }\n",
       "\n",
       "    .dataframe thead th {\n",
       "        text-align: right;\n",
       "    }\n",
       "</style>\n",
       "<table border=\"1\" class=\"dataframe\">\n",
       "  <thead>\n",
       "    <tr style=\"text-align: right;\">\n",
       "      <th></th>\n",
       "      <th>Top_chart</th>\n",
       "    </tr>\n",
       "    <tr>\n",
       "      <th>song</th>\n",
       "      <th></th>\n",
       "    </tr>\n",
       "  </thead>\n",
       "  <tbody>\n",
       "    <tr>\n",
       "      <th>Infinity 2008</th>\n",
       "      <td>1</td>\n",
       "    </tr>\n",
       "    <tr>\n",
       "      <th>Pick Up The Phone</th>\n",
       "      <td>1</td>\n",
       "    </tr>\n",
       "    <tr>\n",
       "      <th>Rain Over Me</th>\n",
       "      <td>1</td>\n",
       "    </tr>\n",
       "    <tr>\n",
       "      <th>All I Want For Christmas Is You</th>\n",
       "      <td>1</td>\n",
       "    </tr>\n",
       "    <tr>\n",
       "      <th>It S Time</th>\n",
       "      <td>1</td>\n",
       "    </tr>\n",
       "  </tbody>\n",
       "</table>\n",
       "</div>"
      ],
      "text/plain": [
       "                                 Top_chart\n",
       "song                                      \n",
       "Infinity 2008                            1\n",
       "Pick Up The Phone                        1\n",
       "Rain Over Me                             1\n",
       "All I Want For Christmas Is You          1\n",
       "It S Time                                1"
      ]
     },
     "execution_count": 38,
     "metadata": {},
     "output_type": "execute_result"
    }
   ],
   "source": [
    "# append df_cleaned_chart_songs to charts\n",
    "final_charts = charts.join(df_cleaned_chart_songs)\n",
    "final_charts.drop(columns=['song'], axis=1, inplace=True)\n",
    "final_charts.rename(columns = {0: \"song\"}, inplace=True)\n",
    "final_charts.set_index('song',inplace=True)\n",
    "final_charts.head()"
   ]
  },
  {
   "cell_type": "code",
   "execution_count": 39,
   "metadata": {},
   "outputs": [
    {
     "data": {
      "text/html": [
       "<div>\n",
       "<style scoped>\n",
       "    .dataframe tbody tr th:only-of-type {\n",
       "        vertical-align: middle;\n",
       "    }\n",
       "\n",
       "    .dataframe tbody tr th {\n",
       "        vertical-align: top;\n",
       "    }\n",
       "\n",
       "    .dataframe thead th {\n",
       "        text-align: right;\n",
       "    }\n",
       "</style>\n",
       "<table border=\"1\" class=\"dataframe\">\n",
       "  <thead>\n",
       "    <tr style=\"text-align: right;\">\n",
       "      <th></th>\n",
       "      <th>year</th>\n",
       "      <th>artist</th>\n",
       "      <th>genre</th>\n",
       "      <th>lyrics</th>\n",
       "    </tr>\n",
       "    <tr>\n",
       "      <th>song</th>\n",
       "      <th></th>\n",
       "      <th></th>\n",
       "      <th></th>\n",
       "      <th></th>\n",
       "    </tr>\n",
       "  </thead>\n",
       "  <tbody>\n",
       "    <tr>\n",
       "      <th>Ego Remix</th>\n",
       "      <td>2009</td>\n",
       "      <td>beyonce-knowles</td>\n",
       "      <td>Pop</td>\n",
       "      <td>Oh baby, how you doing?\\nYou know I'm gonna cu...</td>\n",
       "    </tr>\n",
       "    <tr>\n",
       "      <th>Then Tell Me</th>\n",
       "      <td>2009</td>\n",
       "      <td>beyonce-knowles</td>\n",
       "      <td>Pop</td>\n",
       "      <td>playin' everything so easy,\\nit's like you see...</td>\n",
       "    </tr>\n",
       "    <tr>\n",
       "      <th>Honesty</th>\n",
       "      <td>2009</td>\n",
       "      <td>beyonce-knowles</td>\n",
       "      <td>Pop</td>\n",
       "      <td>If you search\\nFor tenderness\\nIt isn't hard t...</td>\n",
       "    </tr>\n",
       "    <tr>\n",
       "      <th>You Are My Rock</th>\n",
       "      <td>2009</td>\n",
       "      <td>beyonce-knowles</td>\n",
       "      <td>Pop</td>\n",
       "      <td>Oh oh oh I, oh oh oh I\\n[Verse 1:]\\nIf I wrote...</td>\n",
       "    </tr>\n",
       "    <tr>\n",
       "      <th>Black Culture</th>\n",
       "      <td>2009</td>\n",
       "      <td>beyonce-knowles</td>\n",
       "      <td>Pop</td>\n",
       "      <td>Party the people, the people the party it's po...</td>\n",
       "    </tr>\n",
       "  </tbody>\n",
       "</table>\n",
       "</div>"
      ],
      "text/plain": [
       "                 year           artist genre  \\\n",
       "song                                           \n",
       "Ego Remix        2009  beyonce-knowles   Pop   \n",
       "Then Tell Me     2009  beyonce-knowles   Pop   \n",
       "Honesty          2009  beyonce-knowles   Pop   \n",
       "You Are My Rock  2009  beyonce-knowles   Pop   \n",
       "Black Culture    2009  beyonce-knowles   Pop   \n",
       "\n",
       "                                                            lyrics  \n",
       "song                                                                \n",
       "Ego Remix        Oh baby, how you doing?\\nYou know I'm gonna cu...  \n",
       "Then Tell Me     playin' everything so easy,\\nit's like you see...  \n",
       "Honesty          If you search\\nFor tenderness\\nIt isn't hard t...  \n",
       "You Are My Rock  Oh oh oh I, oh oh oh I\\n[Verse 1:]\\nIf I wrote...  \n",
       "Black Culture    Party the people, the people the party it's po...  "
      ]
     },
     "execution_count": 39,
     "metadata": {},
     "output_type": "execute_result"
    }
   ],
   "source": [
    "final_df.set_index('song', inplace=True)\n",
    "final_df.head()"
   ]
  },
  {
   "cell_type": "code",
   "execution_count": 40,
   "metadata": {},
   "outputs": [
    {
     "data": {
      "text/html": [
       "<div>\n",
       "<style scoped>\n",
       "    .dataframe tbody tr th:only-of-type {\n",
       "        vertical-align: middle;\n",
       "    }\n",
       "\n",
       "    .dataframe tbody tr th {\n",
       "        vertical-align: top;\n",
       "    }\n",
       "\n",
       "    .dataframe thead th {\n",
       "        text-align: right;\n",
       "    }\n",
       "</style>\n",
       "<table border=\"1\" class=\"dataframe\">\n",
       "  <thead>\n",
       "    <tr style=\"text-align: right;\">\n",
       "      <th></th>\n",
       "      <th>year</th>\n",
       "      <th>artist</th>\n",
       "      <th>genre</th>\n",
       "      <th>lyrics</th>\n",
       "      <th>Top_chart</th>\n",
       "    </tr>\n",
       "    <tr>\n",
       "      <th>song</th>\n",
       "      <th></th>\n",
       "      <th></th>\n",
       "      <th></th>\n",
       "      <th></th>\n",
       "      <th></th>\n",
       "    </tr>\n",
       "  </thead>\n",
       "  <tbody>\n",
       "    <tr>\n",
       "      <th>0 0</th>\n",
       "      <td>2006</td>\n",
       "      <td>fear-factory</td>\n",
       "      <td>Metal</td>\n",
       "      <td>Long live the new flesh!\\nWhere evil dwells\\nN...</td>\n",
       "      <td>0.0</td>\n",
       "    </tr>\n",
       "    <tr>\n",
       "      <th>0 0 0</th>\n",
       "      <td>2007</td>\n",
       "      <td>earthtone9</td>\n",
       "      <td>Metal</td>\n",
       "      <td>thousand rays\\nthousand leaves\\nthousand breat...</td>\n",
       "      <td>0.0</td>\n",
       "    </tr>\n",
       "    <tr>\n",
       "      <th>0 0 Where Evil Dwells</th>\n",
       "      <td>2008</td>\n",
       "      <td>fear-factory</td>\n",
       "      <td>Metal</td>\n",
       "      <td>Long live the new flesh\\nWhere evil dwells\\nNo...</td>\n",
       "      <td>0.0</td>\n",
       "    </tr>\n",
       "    <tr>\n",
       "      <th>0 To 100</th>\n",
       "      <td>2014</td>\n",
       "      <td>drake</td>\n",
       "      <td>Hip-Hop</td>\n",
       "      <td>Fuck bein' on some chill shit\\nWe go 0 to 100 ...</td>\n",
       "      <td>0.0</td>\n",
       "    </tr>\n",
       "    <tr>\n",
       "      <th>0 To 100 Freestyle</th>\n",
       "      <td>2014</td>\n",
       "      <td>ace-hood</td>\n",
       "      <td>Hip-Hop</td>\n",
       "      <td>Better watch your Mrs., I'mma shoplift\\nGo to ...</td>\n",
       "      <td>0.0</td>\n",
       "    </tr>\n",
       "  </tbody>\n",
       "</table>\n",
       "</div>"
      ],
      "text/plain": [
       "                       year        artist    genre  \\\n",
       "song                                                 \n",
       "0 0                    2006  fear-factory    Metal   \n",
       "0 0 0                  2007    earthtone9    Metal   \n",
       "0 0 Where Evil Dwells  2008  fear-factory    Metal   \n",
       "0 To 100               2014         drake  Hip-Hop   \n",
       "0 To 100 Freestyle     2014      ace-hood  Hip-Hop   \n",
       "\n",
       "                                                                  lyrics  \\\n",
       "song                                                                       \n",
       "0 0                    Long live the new flesh!\\nWhere evil dwells\\nN...   \n",
       "0 0 0                  thousand rays\\nthousand leaves\\nthousand breat...   \n",
       "0 0 Where Evil Dwells  Long live the new flesh\\nWhere evil dwells\\nNo...   \n",
       "0 To 100               Fuck bein' on some chill shit\\nWe go 0 to 100 ...   \n",
       "0 To 100 Freestyle     Better watch your Mrs., I'mma shoplift\\nGo to ...   \n",
       "\n",
       "                       Top_chart  \n",
       "song                              \n",
       "0 0                          0.0  \n",
       "0 0 0                        0.0  \n",
       "0 0 Where Evil Dwells        0.0  \n",
       "0 To 100                     0.0  \n",
       "0 To 100 Freestyle           0.0  "
      ]
     },
     "execution_count": 40,
     "metadata": {},
     "output_type": "execute_result"
    }
   ],
   "source": [
    "new_df = final_df.join(final_charts,how='left')\n",
    "new_df.Top_chart.fillna(0, inplace = True)\n",
    "new_df.head()"
   ]
  },
  {
   "cell_type": "code",
   "execution_count": 43,
   "metadata": {
    "scrolled": true
   },
   "outputs": [
    {
     "data": {
      "text/plain": [
       "0.0    220415\n",
       "1.0     11468\n",
       "Name: Top_chart, dtype: int64"
      ]
     },
     "execution_count": 43,
     "metadata": {},
     "output_type": "execute_result"
    }
   ],
   "source": [
    "new_df.Top_chart.value_counts()"
   ]
  },
  {
   "cell_type": "code",
   "execution_count": 44,
   "metadata": {},
   "outputs": [],
   "source": [
    "final_df = new_df"
   ]
  },
  {
   "cell_type": "markdown",
   "metadata": {},
   "source": [
    "### Drop Song titles with Nan Values"
   ]
  },
  {
   "cell_type": "code",
   "execution_count": 45,
   "metadata": {},
   "outputs": [
    {
     "data": {
      "text/plain": [
       "Rock          109030\n",
       "Pop            40490\n",
       "Hip-Hop        24862\n",
       "Metal          23763\n",
       "Country        14387\n",
       "Jazz            7978\n",
       "Electronic      7972\n",
       "R&B             3401\n",
       "Name: genre, dtype: int64"
      ]
     },
     "execution_count": 45,
     "metadata": {},
     "output_type": "execute_result"
    }
   ],
   "source": [
    "final_df.genre.value_counts()"
   ]
  },
  {
   "cell_type": "code",
   "execution_count": 46,
   "metadata": {},
   "outputs": [],
   "source": [
    "rock_df = final_df[final_df.genre == \"Rock\"][-900:]\n",
    "pop_df = final_df[final_df.genre == \"Pop\"][30000:35000]\n",
    "hip_df = final_df[final_df.genre == \"Hip-Hop\"][:900]\n",
    "metal_df = final_df[final_df.genre == \"Metal\"][:900]\n",
    "jazz_df = final_df[final_df.genre == \"Jazz\"][:4000]\n",
    "elec_df = final_df[final_df.genre == \"Electronic\"][:900]\n",
    "country_df = final_df[final_df.genre == \"Country\"][:900]\n",
    "rnb_df = final_df[final_df.genre == \"R&B\"][:900]\n"
   ]
  },
  {
   "cell_type": "code",
   "execution_count": 47,
   "metadata": {
    "scrolled": true
   },
   "outputs": [],
   "source": [
    "final_df.drop(final_df[final_df.genre == \"Rock\"].index, inplace = True)\n",
    "final_df.drop(final_df[final_df.genre == \"Pop\"].index, inplace = True)\n",
    "final_df.drop(final_df[final_df.genre == \"Hip-Hop\"].index, inplace = True)\n",
    "final_df.drop(final_df[final_df.genre == \"Metal\"].index, inplace = True)\n",
    "final_df.drop(final_df[final_df.genre == \"Jazz\"].index, inplace = True)\n",
    "final_df.drop(final_df[final_df.genre == \"Electronic\"].index, inplace = True)\n",
    "final_df.drop(final_df[final_df.genre == \"Country\"].index, inplace = True)\n"
   ]
  },
  {
   "cell_type": "code",
   "execution_count": 48,
   "metadata": {
    "scrolled": false
   },
   "outputs": [
    {
     "data": {
      "text/plain": [
       "Pop           5000\n",
       "Jazz          4000\n",
       "R&B           1842\n",
       "Hip-Hop        900\n",
       "Electronic     900\n",
       "Metal          900\n",
       "Country        900\n",
       "Rock           900\n",
       "Name: genre, dtype: int64"
      ]
     },
     "execution_count": 48,
     "metadata": {},
     "output_type": "execute_result"
    }
   ],
   "source": [
    "maybe_df = final_df.append([rock_df, pop_df, hip_df, metal_df, jazz_df, elec_df, country_df])\n",
    "maybe_df.genre.value_counts()"
   ]
  },
  {
   "cell_type": "code",
   "execution_count": 49,
   "metadata": {},
   "outputs": [],
   "source": [
    "maybe_df.drop(maybe_df[maybe_df.genre == \"R&B\"].index, inplace = True)\n",
    "maybe_df = maybe_df.append([rnb_df])"
   ]
  },
  {
   "cell_type": "code",
   "execution_count": 50,
   "metadata": {
    "scrolled": true
   },
   "outputs": [
    {
     "data": {
      "text/plain": [
       "Pop           5000\n",
       "Jazz          4000\n",
       "Hip-Hop        900\n",
       "Electronic     900\n",
       "Metal          900\n",
       "Country        900\n",
       "R&B            900\n",
       "Rock           900\n",
       "Name: genre, dtype: int64"
      ]
     },
     "execution_count": 50,
     "metadata": {},
     "output_type": "execute_result"
    }
   ],
   "source": [
    "maybe_df.genre.value_counts()"
   ]
  },
  {
   "cell_type": "markdown",
   "metadata": {},
   "source": [
    "### WC df creation"
   ]
  },
  {
   "cell_type": "code",
   "execution_count": 51,
   "metadata": {},
   "outputs": [],
   "source": [
    "wc_df = maybe_df"
   ]
  },
  {
   "cell_type": "code",
   "execution_count": 53,
   "metadata": {},
   "outputs": [
    {
     "data": {
      "text/plain": [
       "0.0    13695\n",
       "1.0      705\n",
       "Name: Top_chart, dtype: int64"
      ]
     },
     "execution_count": 53,
     "metadata": {},
     "output_type": "execute_result"
    }
   ],
   "source": [
    "maybe_df.Top_chart.value_counts()"
   ]
  },
  {
   "cell_type": "code",
   "execution_count": 54,
   "metadata": {},
   "outputs": [],
   "source": [
    "maybe_df.reset_index(inplace = True)"
   ]
  },
  {
   "cell_type": "code",
   "execution_count": 55,
   "metadata": {},
   "outputs": [
    {
     "data": {
      "text/html": [
       "<div>\n",
       "<style scoped>\n",
       "    .dataframe tbody tr th:only-of-type {\n",
       "        vertical-align: middle;\n",
       "    }\n",
       "\n",
       "    .dataframe tbody tr th {\n",
       "        vertical-align: top;\n",
       "    }\n",
       "\n",
       "    .dataframe thead th {\n",
       "        text-align: right;\n",
       "    }\n",
       "</style>\n",
       "<table border=\"1\" class=\"dataframe\">\n",
       "  <thead>\n",
       "    <tr style=\"text-align: right;\">\n",
       "      <th></th>\n",
       "      <th>song</th>\n",
       "      <th>year</th>\n",
       "      <th>artist</th>\n",
       "      <th>genre</th>\n",
       "      <th>lyrics</th>\n",
       "      <th>Top_chart</th>\n",
       "    </tr>\n",
       "  </thead>\n",
       "  <tbody>\n",
       "    <tr>\n",
       "      <th>0</th>\n",
       "      <td>You Re Only Young Once</td>\n",
       "      <td>2007</td>\n",
       "      <td>amber-pacific</td>\n",
       "      <td>Rock</td>\n",
       "      <td>Cheers to the day I'm on my way\\nI'm living in...</td>\n",
       "      <td>0.0</td>\n",
       "    </tr>\n",
       "    <tr>\n",
       "      <th>1</th>\n",
       "      <td>You Re Our Two</td>\n",
       "      <td>2007</td>\n",
       "      <td>deerhoof</td>\n",
       "      <td>Rock</td>\n",
       "      <td>Hidden gamble.\\nDouble meeting. We are the rem...</td>\n",
       "      <td>0.0</td>\n",
       "    </tr>\n",
       "    <tr>\n",
       "      <th>2</th>\n",
       "      <td>You Re Pretty Good</td>\n",
       "      <td>2007</td>\n",
       "      <td>chixdiggit</td>\n",
       "      <td>Rock</td>\n",
       "      <td>We get done with the show and\\nwe're sweating ...</td>\n",
       "      <td>0.0</td>\n",
       "    </tr>\n",
       "    <tr>\n",
       "      <th>3</th>\n",
       "      <td>You Re Pretty When I Am Drunk</td>\n",
       "      <td>2006</td>\n",
       "      <td>bloodhound-gang</td>\n",
       "      <td>Rock</td>\n",
       "      <td>One night me and the crew hit the road on a mi...</td>\n",
       "      <td>0.0</td>\n",
       "    </tr>\n",
       "    <tr>\n",
       "      <th>4</th>\n",
       "      <td>You Re Pretty When I M Drunk</td>\n",
       "      <td>2006</td>\n",
       "      <td>bloodhound-gang</td>\n",
       "      <td>Rock</td>\n",
       "      <td>One night me and the crew hit the road on a mi...</td>\n",
       "      <td>0.0</td>\n",
       "    </tr>\n",
       "  </tbody>\n",
       "</table>\n",
       "</div>"
      ],
      "text/plain": [
       "                            song  year           artist genre  \\\n",
       "0         You Re Only Young Once  2007    amber-pacific  Rock   \n",
       "1                 You Re Our Two  2007         deerhoof  Rock   \n",
       "2             You Re Pretty Good  2007       chixdiggit  Rock   \n",
       "3  You Re Pretty When I Am Drunk  2006  bloodhound-gang  Rock   \n",
       "4   You Re Pretty When I M Drunk  2006  bloodhound-gang  Rock   \n",
       "\n",
       "                                              lyrics  Top_chart  \n",
       "0  Cheers to the day I'm on my way\\nI'm living in...        0.0  \n",
       "1  Hidden gamble.\\nDouble meeting. We are the rem...        0.0  \n",
       "2  We get done with the show and\\nwe're sweating ...        0.0  \n",
       "3  One night me and the crew hit the road on a mi...        0.0  \n",
       "4  One night me and the crew hit the road on a mi...        0.0  "
      ]
     },
     "execution_count": 55,
     "metadata": {},
     "output_type": "execute_result"
    }
   ],
   "source": [
    "maybe_df.head()"
   ]
  },
  {
   "cell_type": "code",
   "execution_count": 56,
   "metadata": {},
   "outputs": [],
   "source": [
    "lyrics_list = list(maybe_df.lyrics)\n",
    "\n",
    "pattern = \"([a-zA-Z]+(?:'[a-z]+)?)\"\n",
    "\n",
    "lemmatizer = WordNetLemmatizer()\n",
    "stemmer = SnowballStemmer(\"english\")\n",
    "english = list(set(nltk.corpus.words.words()))\n",
    "\n",
    "def clean_docs_lemma(lyrics_list):\n",
    "    cleaned = []\n",
    "    pattern = \"([a-zA-Z]+(?:'[a-z]+)?)\"\n",
    "    for lyric in lyrics_list:\n",
    "        clean_lyric = nltk.regexp_tokenize(lyric, pattern)\n",
    "        lyric_lower = [i.lower() for i in clean_lyric]\n",
    "        stop_words = stopwords.words('english')\n",
    "        stopwords_list = stop_words + list(string.punctuation)\n",
    "        stopwords_list += [\"''\", '\"\"', '...', '``']\n",
    "        lyrics_tokens_stopped = [w for w in lyric_lower if not w in stopwords_list]\n",
    "        lyric_lemmas = [lemmatizer.lemmatize(word) for word in lyrics_tokens_stopped]\n",
    "        c = \" \".join(lyric_lemmas)\n",
    "        cleaned.append(c)\n",
    "    return cleaned\n",
    "\n",
    "def clean_docs_stemma(lyrics_list):\n",
    "    cleaned = []\n",
    "    pattern = \"([a-zA-Z]+(?:'[a-z]+)?)\"\n",
    "    for lyric in lyrics_list:\n",
    "        clean_lyric = nltk.regexp_tokenize(lyric, pattern)\n",
    "        lyric_lower = [i.lower() for i in clean_lyric]\n",
    "        stop_words = stopwords.words('english')\n",
    "        stopwords_list = stop_words + list(string.punctuation)\n",
    "        stopwords_list += [\"''\", '\"\"', '...', '``']\n",
    "        lyrics_tokens_stopped = [w for w in lyric_lower if not w in stopwords_list]\n",
    "        lyric_stemmas = [stemmer.stem(word) for word in lyrics_tokens_stopped]\n",
    "        c = \" \".join(lyric_stemmas)\n",
    "        cleaned.append(c)\n",
    "    return cleaned"
   ]
  },
  {
   "cell_type": "markdown",
   "metadata": {},
   "source": [
    "### First thing we wanted to do is test whether Lemmatizing works better than Stemmatizing"
   ]
  },
  {
   "cell_type": "markdown",
   "metadata": {},
   "source": [
    "### Stemmed Lyrics Test"
   ]
  },
  {
   "cell_type": "code",
   "execution_count": null,
   "metadata": {},
   "outputs": [],
   "source": [
    "stemmed_lyrics = clean_docs_stemma(lyrics_list)\n"
   ]
  },
  {
   "cell_type": "code",
   "execution_count": null,
   "metadata": {
    "scrolled": false
   },
   "outputs": [],
   "source": [
    "stemmed_lyrics[-1:]"
   ]
  },
  {
   "cell_type": "code",
   "execution_count": null,
   "metadata": {},
   "outputs": [],
   "source": [
    "X = stemmed_lyrics\n",
    "y = maybe_df.Top_chart\n",
    "\n",
    "len(X) == len(y)"
   ]
  },
  {
   "cell_type": "code",
   "execution_count": null,
   "metadata": {},
   "outputs": [],
   "source": [
    "from sklearn.model_selection import train_test_split  \n",
    "X_train, X_test, y_train, y_test = train_test_split(X, y, test_size=0.3, random_state=18) "
   ]
  },
  {
   "cell_type": "code",
   "execution_count": null,
   "metadata": {
    "scrolled": true
   },
   "outputs": [],
   "source": [
    "# adaboost_clf = AdaBoostClassifier(learning_rate=0.3)\n",
    "# gbt_clf = GradientBoostingClassifier(learning_rate=0.3)\n",
    "\n",
    "pipe_NB = Pipeline([('count_vectorizer', CountVectorizer()), \n",
    "                     ('tfidf_vectorizer', TfidfTransformer()),\n",
    "                     ('clf', MultinomialNB())\n",
    "                    ])\n",
    "\n",
    "pipe_RF = Pipeline([('count_vectorizer', CountVectorizer()), \n",
    "                     ('tfidf_vectorizer', TfidfTransformer()),\n",
    "                     ('clf', RandomForestClassifier())\n",
    "                    ])\n",
    "\n",
    "pipe_ADA = Pipeline([('count_vectorizer', CountVectorizer()), \n",
    "                     ('tfidf_vectorizer', TfidfTransformer()),\n",
    "                     ('clf', AdaBoostClassifier(learning_rate=0.3))\n",
    "                    ])\n",
    "\n",
    "pipe_GBoost = Pipeline([('count_vectorizer', CountVectorizer()), \n",
    "                     ('tfidf_vectorizer', TfidfTransformer()),\n",
    "                     ('clf', GradientBoostingClassifier(learning_rate=0.3))\n",
    "                    ])\n",
    "\n",
    "pipe_KNN = Pipeline([('count_vectorizer', CountVectorizer()), \n",
    "                     ('tfidf_vectorizer', TfidfTransformer()),\n",
    "                     ('clf', KNeighborsClassifier())\n",
    "                    ])\n",
    "\n",
    "# List of pipelines, List of pipeline names\n",
    "pipelines = [pipe_NB, pipe_RF, pipe_ADA, pipe_GBoost, pipe_KNN]\n",
    "pipeline_names = ['Multinomail NB', 'Random Forest', 'ADA', \"Gboost\", \"KNN\"]\n",
    "\n",
    "# Loop to fit each of the three pipelines\n",
    "for pipe in pipelines:\n",
    "    print(pipe)\n",
    "    pipe.fit(X_train, y_train)\n",
    "\n",
    "# Compare accuracies\n",
    "basic_scores = []\n",
    "for index, val in enumerate(pipelines):\n",
    "    tup = (pipeline_names[index], val.score(X_test, y_test))\n",
    "    basic_scores.append(tup)\n",
    "    print('%s pipeline test accuracy: %.3f' % (pipeline_names[index], val.score(X_test, y_test)))"
   ]
  },
  {
   "cell_type": "code",
   "execution_count": null,
   "metadata": {},
   "outputs": [],
   "source": [
    "modles_stem = [item[0] for item in basic_scores]\n",
    "accuracy_stem = [item[1] for item in basic_scores]\n",
    "\n",
    "plt.figure(figsize=(10,6))\n",
    "plt.title(\"Basic Model Scores for Stemmed Data\")\n",
    "plt.xlabel(\"Model\")\n",
    "plt.ylabel(\"Accuracy Score\")\n",
    "plt.bar(modles_stem, accuracy_stem)"
   ]
  },
  {
   "cell_type": "markdown",
   "metadata": {},
   "source": [
    "### Lemmed Lyrics Test"
   ]
  },
  {
   "cell_type": "code",
   "execution_count": null,
   "metadata": {},
   "outputs": [],
   "source": [
    "lemmed_lyrics = clean_docs_lemma(lyrics_list)"
   ]
  },
  {
   "cell_type": "code",
   "execution_count": null,
   "metadata": {
    "scrolled": true
   },
   "outputs": [],
   "source": [
    "lemmed_lyrics[-1:]"
   ]
  },
  {
   "cell_type": "code",
   "execution_count": null,
   "metadata": {
    "scrolled": true
   },
   "outputs": [],
   "source": [
    "X = lemmed_lyrics\n",
    "y = maybe_df.Top_chart\n",
    "\n",
    "len(X) == len(y)"
   ]
  },
  {
   "cell_type": "code",
   "execution_count": null,
   "metadata": {},
   "outputs": [],
   "source": [
    "from sklearn.model_selection import train_test_split  \n",
    "X_train, X_test, y_train, y_test = train_test_split(X, y, test_size=0.3, random_state=18) "
   ]
  },
  {
   "cell_type": "code",
   "execution_count": null,
   "metadata": {
    "scrolled": false
   },
   "outputs": [],
   "source": [
    "pipe_NB = Pipeline([('count_vectorizer', CountVectorizer()), \n",
    "                     ('tfidf_vectorizer', TfidfTransformer()),\n",
    "                     ('clf', MultinomialNB(alpha = 0.25))\n",
    "                    ])\n",
    "\n",
    "pipe_RF = Pipeline([('count_vectorizer', CountVectorizer()), \n",
    "                     ('tfidf_vectorizer', TfidfTransformer()),\n",
    "                     ('clf', RandomForestClassifier())\n",
    "                    ])\n",
    "\n",
    "pipe_ADA = Pipeline([('count_vectorizer', CountVectorizer()), \n",
    "                     ('tfidf_vectorizer', TfidfTransformer()),\n",
    "                     ('clf', AdaBoostClassifier(learning_rate=0.3))\n",
    "                    ])\n",
    "\n",
    "pipe_GBoost = Pipeline([('count_vectorizer', CountVectorizer()), \n",
    "                     ('tfidf_vectorizer', TfidfTransformer()),\n",
    "                     ('clf', GradientBoostingClassifier(learning_rate=0.3))\n",
    "                    ])\n",
    "\n",
    "pipe_KNN = Pipeline([('count_vectorizer', CountVectorizer()), \n",
    "                     ('tfidf_vectorizer', TfidfTransformer()),\n",
    "                     ('clf', KNeighborsClassifier())\n",
    "                    ])\n",
    "\n",
    "# List of pipelines, List of pipeline names\n",
    "pipelines = [pipe_NB, pipe_RF, pipe_ADA, pipe_GBoost, pipe_KNN]\n",
    "pipeline_names = ['Multinomail NB', 'Random Forest', 'ADA', \"Gboost\", \"KNN\"]\n",
    "\n",
    "# Loop to fit each of the three pipelines\n",
    "for pipe in pipelines:\n",
    "    print(pipe)\n",
    "    pipe.fit(X_train, y_train)\n",
    "\n",
    "# Compare accuracies\n",
    "lemmed_basic_scores = []\n",
    "for index, val in enumerate(pipelines):\n",
    "    tup = (pipeline_names[index], val.score(X_test, y_test))\n",
    "    lemmed_basic_scores.append(tup)\n",
    "    print('%s pipeline test accuracy: %.3f' % (pipeline_names[index], val.score(X_test, y_test)))"
   ]
  },
  {
   "cell_type": "code",
   "execution_count": null,
   "metadata": {},
   "outputs": [],
   "source": [
    "lemmed_basic_scores"
   ]
  },
  {
   "cell_type": "code",
   "execution_count": null,
   "metadata": {},
   "outputs": [],
   "source": [
    "basic_scores"
   ]
  },
  {
   "cell_type": "code",
   "execution_count": null,
   "metadata": {},
   "outputs": [],
   "source": [
    "modles_lem = [item[0] for item in lemmed_basic_scores]\n",
    "accuracy_lem = [item[1] for item in lemmed_basic_scores]\n",
    "\n",
    "\n",
    "import numpy as np\n",
    "import matplotlib.pyplot as plt\n",
    "from matplotlib.ticker import MaxNLocator\n",
    "from collections import namedtuple\n",
    "\n",
    "\n",
    "n_groups = 5\n",
    "\n",
    "means_men = (20, 35, 30, 35, 27)\n",
    "std_men = (2, 3, 4, 1, 2)\n",
    "\n",
    "means_women = (25, 32, 34, 20, 25)\n",
    "std_women = (3, 5, 2, 3, 3)\n",
    "\n",
    "\n",
    "fig, ax = plt.subplots(figsize = (12, 8))\n",
    "\n",
    "\n",
    "index = np.arange(n_groups)\n",
    "bar_width = 0.35\n",
    "\n",
    "opacity = 0.5\n",
    "error_config = {'ecolor': '0.3'}\n",
    "\n",
    "lemmed_bars = ax.bar(index, accuracy_lem, bar_width,\n",
    "                alpha=opacity, color='b',\n",
    "                label='Lematized')\n",
    "\n",
    "stemmed_bars = ax.bar(index + bar_width, accuracy_stem, bar_width,\n",
    "                alpha=opacity, color='r',\n",
    "                label='Stemmatized')\n",
    "\n",
    "ax.set_xlabel('Model Type', fontsize = 14)\n",
    "ax.set_ylabel('Accuracy Scores', fontsize = 14)\n",
    "ax.set_title('Stemmed vs. Lemmed Accuracy Score Comparison', fontsize = 18)\n",
    "ax.set_xticks(index + bar_width / 2)\n",
    "ax.set_xticklabels(modles_lem)\n",
    "\n",
    "plt.axhline(y=1/len(set(y)), color='#17CA83', linestyle='-', label = \"Random Guessing\")\n",
    "ax.legend()\n",
    "\n",
    "\n",
    "plt.show()\n"
   ]
  },
  {
   "cell_type": "markdown",
   "metadata": {},
   "source": [
    "### We decided to pick Lemmatized over Stemmatized and top three models for further optimization"
   ]
  },
  {
   "cell_type": "markdown",
   "metadata": {},
   "source": [
    "### Next we want to try using PCA to improve performance and reduce dimentionality"
   ]
  },
  {
   "cell_type": "code",
   "execution_count": null,
   "metadata": {
    "scrolled": true
   },
   "outputs": [],
   "source": [
    "# tfidf = TfidfVectorizer()\n",
    "# response = tfidf.fit_transform(lemmed_lyrics)\n",
    "\n",
    "# PCA_df = pd.DataFrame(response.toarray(), columns=tfidf.get_feature_names())\n",
    "# PCA_df.shape"
   ]
  },
  {
   "cell_type": "code",
   "execution_count": null,
   "metadata": {},
   "outputs": [],
   "source": [
    "# DATA = response  # this comes from above where you're vectorizing tdif dictionary\n",
    "\n",
    "# non_zero_cols = DATA.nnz / float(DATA.shape[0])\n",
    "# print(\"Average Number of Non-Zero Elements in Vectorized Articles: {}\".format(non_zero_cols))\n",
    "\n",
    "# percent_sparse = 1 - (non_zero_cols / float(DATA.shape[1]))\n",
    "# print('Percentage of columns containing 0: {}'.format(percent_sparse))"
   ]
  },
  {
   "cell_type": "code",
   "execution_count": null,
   "metadata": {
    "scrolled": true
   },
   "outputs": [],
   "source": [
    "# PCA_df.head()"
   ]
  },
  {
   "cell_type": "markdown",
   "metadata": {},
   "source": [
    "### Creating Features table and Target table and testing first model"
   ]
  },
  {
   "cell_type": "code",
   "execution_count": null,
   "metadata": {
    "scrolled": true
   },
   "outputs": [],
   "source": [
    "# X_pca = PCA_df\n",
    "# y_pca = maybe_df.Top_chart\n",
    "\n",
    "# # len(y_pca)\n",
    "# X_pca.shape"
   ]
  },
  {
   "cell_type": "code",
   "execution_count": null,
   "metadata": {},
   "outputs": [],
   "source": [
    "# from sklearn.model_selection import train_test_split  \n",
    "# X_train_pca, X_test_pca, y_train_pca, y_test_pca = train_test_split(X_pca, y_pca, test_size=0.3, random_state=18)"
   ]
  },
  {
   "cell_type": "markdown",
   "metadata": {},
   "source": [
    "### Try different PCA values and pick a number that preserves sufficient % of variation"
   ]
  },
  {
   "cell_type": "code",
   "execution_count": null,
   "metadata": {
    "scrolled": false
   },
   "outputs": [],
   "source": [
    "# from sklearn.decomposition import PCA\n",
    "# # pca_1 = PCA(n_components=1455)\n",
    "# # pca_2 = PCA(n_components=2000)\n",
    "# # pca_3 = PCA(n_components=2500)\n",
    "# pca_4 = PCA(n_components=50)\n",
    "\n",
    "# # principalComponents = pca_1.fit_transform(X_pca)\n",
    "# # principalComponents = pca_2.fit_transform(X_pca)\n",
    "# # principalComponents = pca_3.fit_transform(X_pca)\n",
    "# principalComponents = pca_4.fit_transform(X_pca)\n",
    "\n",
    "# # print(np.sum(pca_1.explained_variance_ratio_))\n",
    "# # print(np.sum(pca_2.explained_variance_ratio_))\n",
    "# # print(np.sum(pca_3.explained_variance_ratio_))\n",
    "# print(np.sum(pca_4.explained_variance_ratio_))"
   ]
  },
  {
   "cell_type": "markdown",
   "metadata": {},
   "source": [
    "### We will test PCA witn n = 1800 on our top 3 models to see if it helps performance"
   ]
  },
  {
   "cell_type": "code",
   "execution_count": null,
   "metadata": {
    "scrolled": true
   },
   "outputs": [],
   "source": [
    "# pipe_NB_pca = Pipeline([('pca', PCA(n_components=3000, random_state=18)),\n",
    "#                      ('clf', GaussianNB())\n",
    "#                     ])\n",
    "\n",
    "# pipe_RF_pca = Pipeline([('pca', PCA(n_components=3000, random_state=18)),\n",
    "#                      ('clf', RandomForestClassifier(random_state=123))\n",
    "#                    ])\n",
    "                  \n",
    "# pipe_GBoost_pca = Pipeline([('pca', PCA(n_components=3000, random_state=18)),\n",
    "#                      ('clf', GradientBoostingClassifier(learning_rate=0.3))\n",
    "#                     ])\n",
    "\n",
    "\n",
    "# # List of pipelines, List of pipeline names\n",
    "# pipelines = [pipe_NB_pca , pipe_RF_pca, pipe_GBoost_pca]\n",
    "# pipeline_names = ['Multinomial NB', 'Random Forest', \"Gboost\"]\n",
    "\n",
    "# # Loop to fit each of the three pipelines\n",
    "# for pipe in pipelines:\n",
    "#     print(pipe)\n",
    "#     pipe.fit(X_train_pca, y_train_pca)\n",
    "\n",
    "# # Compare accuracies\n",
    "# PCA_basic_scores = []\n",
    "# for index, val in enumerate(pipelines):\n",
    "#     tup = (pipeline_names[index], val.score(X_test_pca, y_test_pca))\n",
    "#     PCA_basic_scores.append(tup)\n",
    "#     print('%s pipeline test accuracy: %.3f' % (pipeline_names[index], val.score(X_test_pca, y_test_pca)))\n"
   ]
  },
  {
   "cell_type": "code",
   "execution_count": null,
   "metadata": {
    "scrolled": true
   },
   "outputs": [],
   "source": [
    "# n_groups = 3\n",
    "\n",
    "# pca_modles_lem = [item[0] for item in PCA_basic_scores]\n",
    "# pca_accuracy_lem = [item[1] for item in PCA_basic_scores]\n",
    "\n",
    "# fig, ax = plt.subplots(figsize = (10,8))\n",
    "\n",
    "\n",
    "# index = np.arange(n_groups)\n",
    "# bar_width = 0.35\n",
    "\n",
    "# opacity = 0.5\n",
    "# error_config = {'ecolor': '0.3'}\n",
    "\n",
    "# basic_bars = ax.bar(index, accuracy_lem[:3], bar_width,\n",
    "#                 alpha=opacity, color='b',\n",
    "#                 label='Basic Model')\n",
    "\n",
    "# pca_bars = ax.bar(index + bar_width, pca_accuracy_lem , bar_width,\n",
    "#                 alpha=opacity, color='r',\n",
    "#                 label='PCA n_components = 3000')\n",
    "\n",
    "# ax.set_xlabel('Model Type', fontsize = 14)\n",
    "# ax.set_ylabel('Accuracy Scores', fontsize = 14)\n",
    "# ax.set_title('Basic Model vs. PCA with n = 3000 Model Comparison', fontsize = 18)\n",
    "# ax.set_xticks(index + bar_width / 2)\n",
    "# ax.set_xticklabels(pca_modles_lem)\n",
    "\n",
    "# plt.axhline(y=1/len(set(y)), color='#17CA83', linestyle='-', label = \"Random Guessing\")\n",
    "# ax.legend()\n",
    "# plt.show()"
   ]
  },
  {
   "cell_type": "markdown",
   "metadata": {},
   "source": [
    "### We decided that it's not worth using PCA for our models because it increases computational time and doesn't really improve performance"
   ]
  },
  {
   "cell_type": "markdown",
   "metadata": {},
   "source": [
    "## Let's use GridSearch to try to optimize our  top 3 models!"
   ]
  },
  {
   "cell_type": "code",
   "execution_count": null,
   "metadata": {},
   "outputs": [],
   "source": [
    "Top3_pipelines = [pipe_NB, pipe_GBoost, pipe_RF]\n",
    "Top3_pipeline_names = ['Multinomail NB', \"Gboost\", 'Random Forest']"
   ]
  },
  {
   "cell_type": "markdown",
   "metadata": {},
   "source": [
    "### Grid Search RandomForest"
   ]
  },
  {
   "cell_type": "code",
   "execution_count": null,
   "metadata": {
    "scrolled": true
   },
   "outputs": [],
   "source": [
    "GS_pipe_RF = Pipeline([('count_vectorizer', CountVectorizer()), \n",
    "                     ('tfidf_vectorizer', TfidfTransformer()),\n",
    "                     ('clf', RandomForestClassifier())\n",
    "                    ])\n",
    "\n",
    "sorted(GS_pipe_RF.get_params().keys())\n",
    "\n",
    "rf_param_grid = dict(clf__n_estimators = [10, 30, 100], clf__criterion = ['gini', 'entropy'], \n",
    "                    clf__max_depth = [2, 6, 10], clf__min_samples_split = [5, 10],\n",
    "                    clf__min_samples_leaf = [3, 6])\n",
    "\n",
    "\n",
    "gs_RF = GridSearchCV(estimator=GS_pipe_RF,\n",
    "            param_grid=rf_param_grid,\n",
    "            scoring='accuracy',\n",
    "            cv=3)\n",
    "\n",
    "gs_RF.fit(X_train, y_train)\n",
    "\n",
    "dt_gs_training_score = np.mean(gs_RF.cv_results_['mean_train_score'])\n",
    "dt_gs_testing_score = gs_RF.score(X_test, y_test)\n",
    "\n",
    "print(\"Mean Training Score: {:.4}%\".format(dt_gs_training_score * 100))\n",
    "print(\"Mean Testing Score: {:.4}%\".format(dt_gs_testing_score * 100))\n",
    "print(\"Best Parameter Combination Found During Grid Search: {}\".format(gs_RF.best_params_))"
   ]
  },
  {
   "cell_type": "code",
   "execution_count": null,
   "metadata": {},
   "outputs": [],
   "source": [
    "Grid_RF_metrics = dict(train_score = dt_gs_training_score, test_score = dt_gs_testing_score, best_params = gs_RF.best_params_)\n",
    "Grid_RF_metrics"
   ]
  },
  {
   "cell_type": "markdown",
   "metadata": {},
   "source": [
    "### Naive Bayes GridSearch"
   ]
  },
  {
   "cell_type": "code",
   "execution_count": null,
   "metadata": {
    "scrolled": true
   },
   "outputs": [],
   "source": [
    "GS_NB_pipe = Pipeline([('count_vectorizer', CountVectorizer()), \n",
    "                     ('tfidf_vectorizer', TfidfTransformer()),\n",
    "                     ('clf', MultinomialNB())\n",
    "                    ])\n",
    "\n",
    "# sorted(NB_pipe_RF.get_params().keys())\n",
    "\n",
    "NB_param_grid = dict(clf__alpha = [0.15, 0.25, 1], \n",
    "                    clf__fit_prior = [True, False])\n",
    "\n",
    "\n",
    "gs_NB = GridSearchCV(estimator=GS_NB_pipe,\n",
    "            param_grid=NB_param_grid,\n",
    "            scoring='accuracy',\n",
    "            cv=3)\n",
    "\n",
    "gs_NB.fit(X_train, y_train)\n",
    "\n",
    "NB_gs_training_score = np.mean(gs_NB.cv_results_['mean_train_score'])\n",
    "NB_gs_testing_score = gs_NB.score(X_test, y_test)\n",
    "\n",
    "print(\"Mean Training Score: {:.4}%\".format(NB_gs_training_score * 100))\n",
    "print(\"Mean Testing Score: {:.4}%\".format(NB_gs_testing_score * 100))\n",
    "print(\"Best Parameter Combination Found During Grid Search: {}\".format(gs_NB.best_params_))"
   ]
  },
  {
   "cell_type": "code",
   "execution_count": null,
   "metadata": {
    "scrolled": true
   },
   "outputs": [],
   "source": [
    "Grid_NB_metrics = dict(train_score = NB_gs_training_score, test_score = NB_gs_testing_score, best_params = gs_NB.best_params_)\n",
    "Grid_NB_metrics"
   ]
  },
  {
   "cell_type": "code",
   "execution_count": null,
   "metadata": {},
   "outputs": [],
   "source": [
    "lemmatizer = WordNetLemmatizer()\n",
    "stemmer = SnowballStemmer(\"english\")\n",
    "english = list(set(nltk.corpus.words.words()))\n",
    "\n",
    "def clean_docs_lemma(lyrics_list):\n",
    "    cleaned = []\n",
    "    pattern = \"([a-zA-Z]+(?:'[a-z]+)?)\"\n",
    "    for lyric in lyrics_list:\n",
    "        clean_lyric = nltk.regexp_tokenize(lyric, pattern)\n",
    "        lyric_lower = [i.lower() for i in clean_lyric]\n",
    "        stop_words = stopwords.words('english')\n",
    "        stopwords_list = stop_words + list(string.punctuation)\n",
    "        stopwords_list += [\"''\", '\"\"', '...', '``']\n",
    "        lyrics_tokens_stopped = [w for w in lyric_lower if not w in stopwords_list]\n",
    "        lyric_lemmas = [lemmatizer.lemmatize(word) for word in lyrics_tokens_stopped]\n",
    "        c = \" \".join(lyric_lemmas)\n",
    "        cleaned.append(c)\n",
    "    return cleaned"
   ]
  },
  {
   "cell_type": "markdown",
   "metadata": {},
   "source": [
    "### Word Clouds Per Genre"
   ]
  },
  {
   "cell_type": "code",
   "execution_count": 95,
   "metadata": {},
   "outputs": [],
   "source": [
    "# rock_df = wc_df[wc_df.genre == \"Rock\"]\n",
    "pop_df = wc_df[wc_df.genre == \"Pop\"]\n",
    "# hip_df = wc_df[wc_df.genre == \"Hip-Hop\"]\n",
    "# metal_df = wc_df[wc_df.genre == \"Metal\"]\n",
    "jazz_df = wc_df[wc_df.genre == \"Jazz\"]\n",
    "# elec_df = wc_df[wc_df.genre == \"Electronic\"]\n",
    "# country_df = wc_df[wc_df.genre == \"Country\"]\n",
    "rnb_df = wc_df[wc_df.genre == \"R&B\"]"
   ]
  },
  {
   "cell_type": "code",
   "execution_count": 96,
   "metadata": {},
   "outputs": [],
   "source": [
    "# rock_lyrics = clean_docs_lemma(list(rock_df.lyrics))\n",
    "pop_lyrics = clean_docs_lemma(list(pop_df.lyrics))\n",
    "# hip_lyrics = clean_docs_lemma(list(hip_df.lyrics))\n",
    "# metal_lyrics = clean_docs_lemma(list(metal_df.lyrics))\n",
    "jazz_lyrics = clean_docs_lemma(list(jazz_df.lyrics))\n",
    "# electro_lyrics = clean_docs_lemma(list(elec_df.lyrics))\n",
    "# country_lyrics = clean_docs_lemma(list(country_df.lyrics))\n",
    "rnb_lyrics = clean_docs_lemma(list(rnb_df.lyrics))"
   ]
  },
  {
   "cell_type": "code",
   "execution_count": 61,
   "metadata": {},
   "outputs": [],
   "source": [
    "import gensim\n",
    "from gensim.utils import simple_preprocess\n",
    "from gensim.parsing.preprocessing import STOPWORDS\n",
    "from gensim import corpora, models"
   ]
  },
  {
   "cell_type": "code",
   "execution_count": 97,
   "metadata": {},
   "outputs": [
    {
     "name": "stdout",
     "output_type": "stream",
     "text": [
      "0 'd\n",
      "1 'll\n",
      "2 'm\n",
      "3 're\n",
      "4 's\n",
      "5 've\n"
     ]
    }
   ],
   "source": [
    "import random\n",
    "test = [\"\".join(rnb_lyrics[:2000]), \"\".join(rnb_lyrics[2000:3999])]\n",
    "        \n",
    "lemmed_lyr = [nltk.word_tokenize(doc) for doc in test]\n",
    "\n",
    "dictionary = gensim.corpora.Dictionary(lemmed_lyr)\n",
    "\n",
    "count = 0\n",
    "for k, v in dictionary.iteritems():\n",
    "    print(k, v)\n",
    "    count += 1\n",
    "    if count > 5:\n",
    "        break\n",
    "\n",
    "# dictionary.filter_extremes(no_below=3, no_above=0.5, keep_n=100000)\n",
    "\n",
    "bow_corpus = [dictionary.doc2bow(doc) for doc in lemmed_lyr]"
   ]
  },
  {
   "cell_type": "code",
   "execution_count": 98,
   "metadata": {},
   "outputs": [
    {
     "data": {
      "text/plain": [
       "2"
      ]
     },
     "execution_count": 98,
     "metadata": {},
     "output_type": "execute_result"
    }
   ],
   "source": [
    "len(bow_corpus)"
   ]
  },
  {
   "cell_type": "code",
   "execution_count": 99,
   "metadata": {},
   "outputs": [
    {
     "name": "stdout",
     "output_type": "stream",
     "text": [
      "Topic: 0 Word: 0.000*\"'s\" + 0.000*\"i\" + 0.000*\"love\" + 0.000*\"got\" + 0.000*\"oh\" + 0.000*\"baby\" + 0.000*\"'m\" + 0.000*\"n't\" + 0.000*\"na\" + 0.000*\"know\"\n",
      "Topic: 1 Word: 0.000*\"i\" + 0.000*\"'s\" + 0.000*\"baby\" + 0.000*\"got\" + 0.000*\"'m\" + 0.000*\"love\" + 0.000*\"oh\" + 0.000*\"get\" + 0.000*\"know\" + 0.000*\"n't\"\n",
      "Topic: 2 Word: 0.000*\"i\" + 0.000*\"'s\" + 0.000*\"love\" + 0.000*\"baby\" + 0.000*\"oh\" + 0.000*\"'m\" + 0.000*\"n't\" + 0.000*\"know\" + 0.000*\"got\" + 0.000*\"time\"\n",
      "Topic: 3 Word: 0.000*\"i\" + 0.000*\"baby\" + 0.000*\"got\" + 0.000*\"love\" + 0.000*\"'s\" + 0.000*\"n't\" + 0.000*\"'m\" + 0.000*\"know\" + 0.000*\"'ll\" + 0.000*\"get\"\n",
      "Topic: 4 Word: 0.000*\"i\" + 0.000*\"'s\" + 0.000*\"oh\" + 0.000*\"love\" + 0.000*\"baby\" + 0.000*\"got\" + 0.000*\"n't\" + 0.000*\"know\" + 0.000*\"'m\" + 0.000*\"get\"\n",
      "Topic: 5 Word: 0.000*\"'s\" + 0.000*\"i\" + 0.000*\"oh\" + 0.000*\"baby\" + 0.000*\"got\" + 0.000*\"'m\" + 0.000*\"love\" + 0.000*\"n't\" + 0.000*\"ca\" + 0.000*\"time\"\n",
      "Topic: 6 Word: 0.000*\"i\" + 0.000*\"love\" + 0.000*\"oh\" + 0.000*\"baby\" + 0.000*\"'m\" + 0.000*\"'s\" + 0.000*\"n't\" + 0.000*\"time\" + 0.000*\"got\" + 0.000*\"'ll\"\n",
      "Topic: 7 Word: 0.000*\"i\" + 0.000*\"'s\" + 0.000*\"love\" + 0.000*\"oh\" + 0.000*\"got\" + 0.000*\"know\" + 0.000*\"get\" + 0.000*\"baby\" + 0.000*\"n't\" + 0.000*\"'m\"\n",
      "Topic: 8 Word: 0.000*\"i\" + 0.000*\"'s\" + 0.000*\"love\" + 0.000*\"oh\" + 0.000*\"baby\" + 0.000*\"'m\" + 0.000*\"got\" + 0.000*\"n't\" + 0.000*\"'ll\" + 0.000*\"know\"\n",
      "Topic: 9 Word: 0.001*\"i\" + 0.000*\"'s\" + 0.000*\"love\" + 0.000*\"'m\" + 0.000*\"baby\" + 0.000*\"oh\" + 0.000*\"know\" + 0.000*\"got\" + 0.000*\"n't\" + 0.000*\"get\"\n"
     ]
    }
   ],
   "source": [
    "tfidf = models.TfidfModel(bow_corpus)\n",
    "corpus_tfidf = tfidf[bow_corpus]\n",
    "\n",
    "lda_model_tfidf = gensim.models.LdaMulticore(corpus_tfidf, num_topics=10, id2word=dictionary, passes=2, workers=4)\n",
    "for idx, topic in lda_model_tfidf.print_topics(-1):\n",
    "    print('Topic: {} Word: {}'.format(idx, topic))"
   ]
  },
  {
   "cell_type": "code",
   "execution_count": 105,
   "metadata": {},
   "outputs": [
    {
     "data": {
      "text/plain": [
       "[('one', 0.10083916395970831),\n",
       " ('ca', 0.10294625096782162),\n",
       " ('come', 0.11242814250433152),\n",
       " ('go', 0.1157392792313667),\n",
       " ('yeah', 0.11965244081786285),\n",
       " ('let', 0.12070598432191951),\n",
       " ('na', 0.12717775156112465),\n",
       " ('want', 0.12838180128004656),\n",
       " ('like', 0.13741217417196072),\n",
       " ('time', 0.1398202736098045),\n",
       " ('get', 0.15938608154228523),\n",
       " (\"n't\", 0.17609227139232647),\n",
       " ('got', 0.1870792250774887),\n",
       " ('know', 0.20002275955589904),\n",
       " ('oh', 0.2019793403491471),\n",
       " ('baby', 0.2090531324478132),\n",
       " (\"'m\", 0.2210936296370321),\n",
       " ('love', 0.2680515686749858),\n",
       " (\"'s\", 0.2724162489060777),\n",
       " ('i', 0.36723516427117653)]"
      ]
     },
     "execution_count": 105,
     "metadata": {},
     "output_type": "execute_result"
    }
   ],
   "source": [
    "weights = tfidf[bow_corpus[0]]\n",
    "\n",
    "# Get terms from the dictionary and pair with weights\n",
    "\n",
    "weights = [(dictionary[pair[0]], pair[1]) for pair in weights]\n",
    "weights = sorted(weights, key = lambda x: x[1])[-200:]\n",
    "weights[-20:]"
   ]
  },
  {
   "cell_type": "code",
   "execution_count": 107,
   "metadata": {},
   "outputs": [
    {
     "data": {
      "image/png": "[encoded data removed]",
      "text/plain": [
       "<Figure size 864x576 with 1 Axes>"
      ]
     },
     "metadata": {
      "needs_background": "light"
     },
     "output_type": "display_data"
    }
   ],
   "source": [
    "from wordcloud import WordCloud\n",
    "\n",
    "# Initialize the word cloud\n",
    "\n",
    "d = {}\n",
    "for a, x in weights:\n",
    "    d[a] = x\n",
    "    \n",
    "wc = WordCloud(\n",
    "    background_color=\"white\",\n",
    "    max_words=2000,\n",
    "    width = 1024,\n",
    "    height = 720,\n",
    "    stopwords=stopwords.words(\"english\")\n",
    ")\n",
    "\n",
    "wc.generate_from_frequencies(d)\n",
    "plt.figure(figsize = (12, 8))\n",
    "plt.imshow(wc, interpolation=\"bilinear\")\n",
    "plt.title(\"R & B Key Words\", color = \"r\", fontsize = 25)\n",
    "plt.axis(\"off\")\n",
    "plt.show()"
   ]
  },
  {
   "cell_type": "code",
   "execution_count": null,
   "metadata": {},
   "outputs": [],
   "source": []
  },
  {
   "cell_type": "code",
   "execution_count": null,
   "metadata": {},
   "outputs": [],
   "source": []
  }
 ],
 "metadata": {
  "kernelspec": {
   "display_name": "Python 3",
   "language": "python",
   "name": "python3"
  },
  "language_info": {
   "codemirror_mode": {
    "name": "ipython",
    "version": 3
   },
   "file_extension": ".py",
   "mimetype": "text/x-python",
   "name": "python",
   "nbconvert_exporter": "python",
   "pygments_lexer": "ipython3",
   "version": "3.6.7"
  }
 },
 "nbformat": 4,
 "nbformat_minor": 2
}
