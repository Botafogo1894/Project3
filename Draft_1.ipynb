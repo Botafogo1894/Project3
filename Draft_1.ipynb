{
 "cells": [
  {
   "cell_type": "code",
   "execution_count": 45,
   "metadata": {},
   "outputs": [
    {
     "data": {
      "text/plain": [
       "Donna Summer                                    191\n",
       "Gordon Lightfoot                                189\n",
       "Bob Dylan                                       188\n",
       "George Strait                                   188\n",
       "Reba Mcentire                                   187\n",
       "Alabama                                         187\n",
       "Cher                                            187\n",
       "Loretta Lynn                                    187\n",
       "Chaka Khan                                      186\n",
       "Dean Martin                                     186\n",
       "Hank Williams Jr.                               185\n",
       "Neil Young                                      185\n",
       "Nazareth                                        184\n",
       "Cliff Richard                                   184\n",
       "Indigo Girls                                    184\n",
       "America                                         184\n",
       "Kiss                                            183\n",
       "Johnny Cash                                     183\n",
       "Chris Rea                                       182\n",
       "Bon Jovi                                        181\n",
       "Fleetwood Mac                                   180\n",
       "Dolly Parton                                    180\n",
       "Rolling Stones                                  179\n",
       "Deep Purple                                     179\n",
       "The Beatles                                     178\n",
       "Roy Orbison                                     178\n",
       "Rod Stewart                                     178\n",
       "Morrissey                                       177\n",
       "Iggy Pop                                        177\n",
       "James Taylor                                    177\n",
       "                                               ... \n",
       "Independence Day                                 11\n",
       "Walk The Moon                                    11\n",
       "Yukmouth                                         11\n",
       "Side A                                           11\n",
       "Quarashi                                         10\n",
       "Yonder Mountain String Band                      10\n",
       "Koes Plus                                        10\n",
       "Xentrix                                           9\n",
       "Next To Normal                                    9\n",
       "Yung Joc                                          9\n",
       "Qntal                                             8\n",
       "Yeng Constantino                                  8\n",
       "Joseph And The Amazing Technicolor Dreamcoat      8\n",
       "X-Raided                                          7\n",
       "Young Dro                                         7\n",
       "Gipsy Kings                                       5\n",
       "Van Der Graaf Generator                           5\n",
       "Unknown                                           4\n",
       "Various Artists                                   3\n",
       "Eppu Normaali                                     3\n",
       "Soundtracks                                       3\n",
       "Exo                                               3\n",
       "Xavier Naidoo                                     3\n",
       "Zazie                                             2\n",
       "Exo-K                                             2\n",
       "Ungu                                              2\n",
       "X-Treme                                           1\n",
       "Zed                                               1\n",
       "Zoe                                               1\n",
       "U-Kiss                                            1\n",
       "Name: artist, Length: 643, dtype: int64"
      ]
     },
     "execution_count": 45,
     "metadata": {},
     "output_type": "execute_result"
    }
   ],
   "source": [
    "import pandas as pd\n",
    "from pandas import ExcelWriter\n",
    "from pandas import ExcelFile\n",
    " \n",
    "df = pd.read_csv('songdata.csv')\n",
    " \n",
    "df.artist.value_counts()"
   ]
  },
  {
   "cell_type": "code",
   "execution_count": 27,
   "metadata": {},
   "outputs": [
    {
     "data": {
      "text/plain": [
       "User_ID                            0\n",
       "Product_ID                         0\n",
       "Gender                             0\n",
       "Age                                0\n",
       "Occupation                         0\n",
       "City_Category                      0\n",
       "Stay_In_Current_City_Years         0\n",
       "Marital_Status                     0\n",
       "Product_Category_1                 0\n",
       "Product_Category_2            166986\n",
       "Product_Category_3            373299\n",
       "Purchase                           0\n",
       "dtype: int64"
      ]
     },
     "execution_count": 27,
     "metadata": {},
     "output_type": "execute_result"
    }
   ],
   "source": [
    "df.isna().sum()"
   ]
  },
  {
   "cell_type": "code",
   "execution_count": null,
   "metadata": {},
   "outputs": [],
   "source": []
  }
 ],
 "metadata": {
  "kernelspec": {
   "display_name": "Python 3",
   "language": "python",
   "name": "python3"
  },
  "language_info": {
   "codemirror_mode": {
    "name": "ipython",
    "version": 3
   },
   "file_extension": ".py",
   "mimetype": "text/x-python",
   "name": "python",
   "nbconvert_exporter": "python",
   "pygments_lexer": "ipython3",
   "version": "3.6.7"
  }
 },
 "nbformat": 4,
 "nbformat_minor": 2
}
